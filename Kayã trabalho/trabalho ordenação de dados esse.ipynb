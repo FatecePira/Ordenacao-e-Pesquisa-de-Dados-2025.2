{
 "cells": [
  {
   "metadata": {},
   "cell_type": "markdown",
   "source": [
    "# This is a sample Jupyter Notebook\n",
    "\n",
    "Below is an example of a code cell. \n",
    "Put your cursor into the cell and press Shift+Enter to execute it and select the next one, or click 'Run Cell' button.\n",
    "\n",
    "Press Double Shift to search everywhere for classes, files, tool windows, actions, and settings.\n",
    "\n",
    "To learn more about Jupyter Notebooks in PyCharm, see [help](https://www.jetbrains.com/help/pycharm/ipython-notebook-support.html).\n",
    "For an overview of PyCharm, go to Help -> Learn IDE features or refer to [our documentation](https://www.jetbrains.com/help/pycharm/getting-started.html)."
   ],
   "id": "8a77807f92f26ee"
  },
  {
   "metadata": {
    "ExecuteTime": {
     "end_time": "2025-09-17T22:55:30.774763Z",
     "start_time": "2025-09-17T22:55:30.770460Z"
    }
   },
   "cell_type": "code",
   "source": [
    "def bubble_sort_desc(vetor):\n",
    "    n = len(vetor)\n",
    "    for i in range(n):\n",
    "        for j in range(0, n - i - 1):\n",
    "            if vetor[j] < vetor[j + 1]:\n",
    "                vetor[j], vetor[j + 1] = vetor[j + 1], vetor[j]\n",
    "\n",
    "vetor1 = [1, 10, 13, 14, 29, 37]\n",
    "vetor2 = [29, 10, 14, 37, 13, 1]\n",
    "vetor3 = [37, 29, 14, 13, 10, 1]\n",
    "\n",
    "print(\"vetor 1 original:\", vetor1)\n",
    "print(\"vetor 2 original:\", vetor2)\n",
    "print(\"vetor 3 original:\", vetor3)\n",
    "\n",
    "bubble_sort_desc(vetor1)\n",
    "bubble_sort_desc(vetor2)\n",
    "bubble_sort_desc(vetor3)\n",
    "\n",
    "print(\"vetor 1 decrescente:\", vetor1)\n",
    "print(\"vetor 2 decrescente:\", vetor2)\n",
    "print(\"vetor 3 decrescente:\", vetor3)\n",
    "\n",
    "# Insertion Sort Crescente\n",
    "def insertion_sort_crescente(v):\n",
    "    for i in range(1, len(v)):\n",
    "        aux = v[i]\n",
    "        j = i\n",
    "        while j > 0 and aux < v[j - 1]:\n",
    "            v[j] = v[j - 1]\n",
    "            j -= 1\n",
    "        v[j] = aux\n",
    "    return v\n",
    "\n",
    "# Função para imprimir\n",
    "def imprime(v):\n",
    "    print(v)\n",
    "\n",
    "# Testando com os vetores do trabalho\n",
    "vetor1 = [1, 10, 13, 14, 29, 37]  # melhor caso\n",
    "vetor2 = [29, 10, 14, 37, 13, 1]  # caso médio\n",
    "vetor3 = [37, 29, 14, 13, 10, 1]  # pior caso\n",
    "\n",
    "print(\"=== ORDEM CRESCENTE ===\")\n",
    "print(insertion_sort_crescente(vetor1.copy()))\n",
    "print(insertion_sort_crescente(vetor2.copy()))\n",
    "print(insertion_sort_crescente(vetor3.copy()))\n",
    "\n"
   ],
   "id": "fbc121e30a2defb3",
   "outputs": [
    {
     "name": "stdout",
     "output_type": "stream",
     "text": [
      "vetor 1 original: [1, 10, 13, 14, 29, 37]\n",
      "vetor 2 original: [29, 10, 14, 37, 13, 1]\n",
      "vetor 3 original: [37, 29, 14, 13, 10, 1]\n",
      "vetor 1 decrescente: [37, 29, 14, 13, 10, 1]\n",
      "vetor 2 decrescente: [37, 29, 14, 13, 10, 1]\n",
      "vetor 3 decrescente: [37, 29, 14, 13, 10, 1]\n",
      "=== ORDEM CRESCENTE ===\n",
      "[1, 10, 13, 14, 29, 37]\n",
      "[1, 10, 13, 14, 29, 37]\n",
      "[1, 10, 13, 14, 29, 37]\n"
     ]
    }
   ],
   "execution_count": 5
  },
  {
   "metadata": {
    "ExecuteTime": {
     "end_time": "2025-09-17T22:28:49.403257Z",
     "start_time": "2025-09-17T22:28:49.401446Z"
    }
   },
   "cell_type": "code",
   "source": "",
   "id": "ae37349e0ab77bc",
   "outputs": [],
   "execution_count": null
  },
  {
   "metadata": {},
   "cell_type": "code",
   "outputs": [],
   "execution_count": null,
   "source": "",
   "id": "2e2dc74ab79cb910"
  }
 ],
 "metadata": {
  "kernelspec": {
   "display_name": "Python 3",
   "language": "python",
   "name": "python3"
  },
  "language_info": {
   "codemirror_mode": {
    "name": "ipython",
    "version": 2
   },
   "file_extension": ".py",
   "mimetype": "text/x-python",
   "name": "python",
   "nbconvert_exporter": "python",
   "pygments_lexer": "ipython2",
   "version": "2.7.6"
  }
 },
 "nbformat": 4,
 "nbformat_minor": 5
}
